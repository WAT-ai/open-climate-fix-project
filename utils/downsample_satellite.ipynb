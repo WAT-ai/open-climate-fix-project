{
 "cells": [
  {
   "cell_type": "markdown",
   "source": [
    "# Functions for preprocessing + downsampling satellite imagery\n",
    "This notebook can be converted into a script."
   ],
   "metadata": {
    "collapsed": false
   }
  },
  {
   "cell_type": "code",
   "execution_count": 12,
   "outputs": [
    {
     "name": "stdout",
     "output_type": "stream",
     "text": [
      "\u001B[33mDEPRECATION: Configuring installation scheme with distutils config files is deprecated and will no longer work in the near future. If you are using a Homebrew or Linuxbrew Python, please see discussion at https://github.com/Homebrew/homebrew-core/issues/76621\u001B[0m\u001B[33m\r\n",
      "\u001B[0mRequirement already satisfied: blosc2 in /usr/local/lib/python3.9/site-packages (2.0.0)\r\n",
      "Requirement already satisfied: msgpack in /usr/local/lib/python3.9/site-packages (from blosc2) (1.0.4)\r\n",
      "\u001B[33mDEPRECATION: Configuring installation scheme with distutils config files is deprecated and will no longer work in the near future. If you are using a Homebrew or Linuxbrew Python, please see discussion at https://github.com/Homebrew/homebrew-core/issues/76621\u001B[0m\u001B[33m\r\n",
      "\u001B[0m\r\n",
      "\u001B[1m[\u001B[0m\u001B[34;49mnotice\u001B[0m\u001B[1;39;49m]\u001B[0m\u001B[39;49m A new release of pip available: \u001B[0m\u001B[31;49m22.3.1\u001B[0m\u001B[39;49m -> \u001B[0m\u001B[32;49m23.1.2\u001B[0m\r\n",
      "\u001B[1m[\u001B[0m\u001B[34;49mnotice\u001B[0m\u001B[1;39;49m]\u001B[0m\u001B[39;49m To update, run: \u001B[0m\u001B[32;49mpython3.9 -m pip install --upgrade pip\u001B[0m\r\n"
     ]
    }
   ],
   "source": [
    "! pip install blosc2\n",
    "import pandas as pd\n",
    "import numpy as np\n",
    "import matplotlib.pyplot as plt\n",
    "import seaborn as sns\n",
    "import xarray as xr\n",
    "import datetime\n",
    "import blosc2"
   ],
   "metadata": {
    "collapsed": false
   }
  },
  {
   "cell_type": "code",
   "execution_count": 13,
   "outputs": [
    {
     "ename": "ValueError",
     "evalue": "codec not available: 'blosc2'",
     "output_type": "error",
     "traceback": [
      "\u001B[0;31m---------------------------------------------------------------------------\u001B[0m",
      "\u001B[0;31mValueError\u001B[0m                                Traceback (most recent call last)",
      "Cell \u001B[0;32mIn[13], line 2\u001B[0m\n\u001B[1;32m      1\u001B[0m DATA_PATH \u001B[38;5;241m=\u001B[39m \u001B[38;5;124m'\u001B[39m\u001B[38;5;124m/Users/carterdemars/Desktop/2020_0000-of-0031.zarr\u001B[39m\u001B[38;5;124m'\u001B[39m\n\u001B[0;32m----> 2\u001B[0m dataset \u001B[38;5;241m=\u001B[39m \u001B[43mxr\u001B[49m\u001B[38;5;241;43m.\u001B[39;49m\u001B[43mopen_dataset\u001B[49m\u001B[43m(\u001B[49m\u001B[43mDATA_PATH\u001B[49m\u001B[43m,\u001B[49m\u001B[43m \u001B[49m\u001B[43mengine\u001B[49m\u001B[38;5;241;43m=\u001B[39;49m\u001B[38;5;124;43m'\u001B[39;49m\u001B[38;5;124;43mzarr\u001B[39;49m\u001B[38;5;124;43m'\u001B[39;49m\u001B[43m,\u001B[49m\u001B[43m \u001B[49m\u001B[43mchunks\u001B[49m\u001B[38;5;241;43m=\u001B[39;49m\u001B[38;5;124;43m'\u001B[39;49m\u001B[38;5;124;43mauto\u001B[39;49m\u001B[38;5;124;43m'\u001B[39;49m\u001B[43m)\u001B[49m\n",
      "File \u001B[0;32m/usr/local/lib/python3.9/site-packages/xarray/backends/api.py:525\u001B[0m, in \u001B[0;36mopen_dataset\u001B[0;34m(filename_or_obj, engine, chunks, cache, decode_cf, mask_and_scale, decode_times, decode_timedelta, use_cftime, concat_characters, decode_coords, drop_variables, inline_array, backend_kwargs, **kwargs)\u001B[0m\n\u001B[1;32m    513\u001B[0m decoders \u001B[38;5;241m=\u001B[39m _resolve_decoders_kwargs(\n\u001B[1;32m    514\u001B[0m     decode_cf,\n\u001B[1;32m    515\u001B[0m     open_backend_dataset_parameters\u001B[38;5;241m=\u001B[39mbackend\u001B[38;5;241m.\u001B[39mopen_dataset_parameters,\n\u001B[0;32m   (...)\u001B[0m\n\u001B[1;32m    521\u001B[0m     decode_coords\u001B[38;5;241m=\u001B[39mdecode_coords,\n\u001B[1;32m    522\u001B[0m )\n\u001B[1;32m    524\u001B[0m overwrite_encoded_chunks \u001B[38;5;241m=\u001B[39m kwargs\u001B[38;5;241m.\u001B[39mpop(\u001B[38;5;124m\"\u001B[39m\u001B[38;5;124moverwrite_encoded_chunks\u001B[39m\u001B[38;5;124m\"\u001B[39m, \u001B[38;5;28;01mNone\u001B[39;00m)\n\u001B[0;32m--> 525\u001B[0m backend_ds \u001B[38;5;241m=\u001B[39m \u001B[43mbackend\u001B[49m\u001B[38;5;241;43m.\u001B[39;49m\u001B[43mopen_dataset\u001B[49m\u001B[43m(\u001B[49m\n\u001B[1;32m    526\u001B[0m \u001B[43m    \u001B[49m\u001B[43mfilename_or_obj\u001B[49m\u001B[43m,\u001B[49m\n\u001B[1;32m    527\u001B[0m \u001B[43m    \u001B[49m\u001B[43mdrop_variables\u001B[49m\u001B[38;5;241;43m=\u001B[39;49m\u001B[43mdrop_variables\u001B[49m\u001B[43m,\u001B[49m\n\u001B[1;32m    528\u001B[0m \u001B[43m    \u001B[49m\u001B[38;5;241;43m*\u001B[39;49m\u001B[38;5;241;43m*\u001B[39;49m\u001B[43mdecoders\u001B[49m\u001B[43m,\u001B[49m\n\u001B[1;32m    529\u001B[0m \u001B[43m    \u001B[49m\u001B[38;5;241;43m*\u001B[39;49m\u001B[38;5;241;43m*\u001B[39;49m\u001B[43mkwargs\u001B[49m\u001B[43m,\u001B[49m\n\u001B[1;32m    530\u001B[0m \u001B[43m\u001B[49m\u001B[43m)\u001B[49m\n\u001B[1;32m    531\u001B[0m ds \u001B[38;5;241m=\u001B[39m _dataset_from_backend_dataset(\n\u001B[1;32m    532\u001B[0m     backend_ds,\n\u001B[1;32m    533\u001B[0m     filename_or_obj,\n\u001B[0;32m   (...)\u001B[0m\n\u001B[1;32m    541\u001B[0m     \u001B[38;5;241m*\u001B[39m\u001B[38;5;241m*\u001B[39mkwargs,\n\u001B[1;32m    542\u001B[0m )\n\u001B[1;32m    543\u001B[0m \u001B[38;5;28;01mreturn\u001B[39;00m ds\n",
      "File \u001B[0;32m/usr/local/lib/python3.9/site-packages/xarray/backends/zarr.py:923\u001B[0m, in \u001B[0;36mZarrBackendEntrypoint.open_dataset\u001B[0;34m(self, filename_or_obj, mask_and_scale, decode_times, concat_characters, decode_coords, drop_variables, use_cftime, decode_timedelta, group, mode, synchronizer, consolidated, chunk_store, storage_options, stacklevel, zarr_version)\u001B[0m\n\u001B[1;32m    921\u001B[0m store_entrypoint \u001B[38;5;241m=\u001B[39m StoreBackendEntrypoint()\n\u001B[1;32m    922\u001B[0m \u001B[38;5;28;01mwith\u001B[39;00m close_on_error(store):\n\u001B[0;32m--> 923\u001B[0m     ds \u001B[38;5;241m=\u001B[39m \u001B[43mstore_entrypoint\u001B[49m\u001B[38;5;241;43m.\u001B[39;49m\u001B[43mopen_dataset\u001B[49m\u001B[43m(\u001B[49m\n\u001B[1;32m    924\u001B[0m \u001B[43m        \u001B[49m\u001B[43mstore\u001B[49m\u001B[43m,\u001B[49m\n\u001B[1;32m    925\u001B[0m \u001B[43m        \u001B[49m\u001B[43mmask_and_scale\u001B[49m\u001B[38;5;241;43m=\u001B[39;49m\u001B[43mmask_and_scale\u001B[49m\u001B[43m,\u001B[49m\n\u001B[1;32m    926\u001B[0m \u001B[43m        \u001B[49m\u001B[43mdecode_times\u001B[49m\u001B[38;5;241;43m=\u001B[39;49m\u001B[43mdecode_times\u001B[49m\u001B[43m,\u001B[49m\n\u001B[1;32m    927\u001B[0m \u001B[43m        \u001B[49m\u001B[43mconcat_characters\u001B[49m\u001B[38;5;241;43m=\u001B[39;49m\u001B[43mconcat_characters\u001B[49m\u001B[43m,\u001B[49m\n\u001B[1;32m    928\u001B[0m \u001B[43m        \u001B[49m\u001B[43mdecode_coords\u001B[49m\u001B[38;5;241;43m=\u001B[39;49m\u001B[43mdecode_coords\u001B[49m\u001B[43m,\u001B[49m\n\u001B[1;32m    929\u001B[0m \u001B[43m        \u001B[49m\u001B[43mdrop_variables\u001B[49m\u001B[38;5;241;43m=\u001B[39;49m\u001B[43mdrop_variables\u001B[49m\u001B[43m,\u001B[49m\n\u001B[1;32m    930\u001B[0m \u001B[43m        \u001B[49m\u001B[43muse_cftime\u001B[49m\u001B[38;5;241;43m=\u001B[39;49m\u001B[43muse_cftime\u001B[49m\u001B[43m,\u001B[49m\n\u001B[1;32m    931\u001B[0m \u001B[43m        \u001B[49m\u001B[43mdecode_timedelta\u001B[49m\u001B[38;5;241;43m=\u001B[39;49m\u001B[43mdecode_timedelta\u001B[49m\u001B[43m,\u001B[49m\n\u001B[1;32m    932\u001B[0m \u001B[43m    \u001B[49m\u001B[43m)\u001B[49m\n\u001B[1;32m    933\u001B[0m \u001B[38;5;28;01mreturn\u001B[39;00m ds\n",
      "File \u001B[0;32m/usr/local/lib/python3.9/site-packages/xarray/backends/store.py:43\u001B[0m, in \u001B[0;36mStoreBackendEntrypoint.open_dataset\u001B[0;34m(self, filename_or_obj, mask_and_scale, decode_times, concat_characters, decode_coords, drop_variables, use_cftime, decode_timedelta)\u001B[0m\n\u001B[1;32m     29\u001B[0m \u001B[38;5;28;01mdef\u001B[39;00m \u001B[38;5;21mopen_dataset\u001B[39m(  \u001B[38;5;66;03m# type: ignore[override]  # allow LSP violation, not supporting **kwargs\u001B[39;00m\n\u001B[1;32m     30\u001B[0m     \u001B[38;5;28mself\u001B[39m,\n\u001B[1;32m     31\u001B[0m     filename_or_obj: \u001B[38;5;28mstr\u001B[39m \u001B[38;5;241m|\u001B[39m os\u001B[38;5;241m.\u001B[39mPathLike[Any] \u001B[38;5;241m|\u001B[39m BufferedIOBase \u001B[38;5;241m|\u001B[39m AbstractDataStore,\n\u001B[0;32m   (...)\u001B[0m\n\u001B[1;32m     39\u001B[0m     decode_timedelta\u001B[38;5;241m=\u001B[39m\u001B[38;5;28;01mNone\u001B[39;00m,\n\u001B[1;32m     40\u001B[0m ) \u001B[38;5;241m-\u001B[39m\u001B[38;5;241m>\u001B[39m Dataset:\n\u001B[1;32m     41\u001B[0m     \u001B[38;5;28;01massert\u001B[39;00m \u001B[38;5;28misinstance\u001B[39m(filename_or_obj, AbstractDataStore)\n\u001B[0;32m---> 43\u001B[0m     \u001B[38;5;28mvars\u001B[39m, attrs \u001B[38;5;241m=\u001B[39m \u001B[43mfilename_or_obj\u001B[49m\u001B[38;5;241;43m.\u001B[39;49m\u001B[43mload\u001B[49m\u001B[43m(\u001B[49m\u001B[43m)\u001B[49m\n\u001B[1;32m     44\u001B[0m     encoding \u001B[38;5;241m=\u001B[39m filename_or_obj\u001B[38;5;241m.\u001B[39mget_encoding()\n\u001B[1;32m     46\u001B[0m     \u001B[38;5;28mvars\u001B[39m, attrs, coord_names \u001B[38;5;241m=\u001B[39m conventions\u001B[38;5;241m.\u001B[39mdecode_cf_variables(\n\u001B[1;32m     47\u001B[0m         \u001B[38;5;28mvars\u001B[39m,\n\u001B[1;32m     48\u001B[0m         attrs,\n\u001B[0;32m   (...)\u001B[0m\n\u001B[1;32m     55\u001B[0m         decode_timedelta\u001B[38;5;241m=\u001B[39mdecode_timedelta,\n\u001B[1;32m     56\u001B[0m     )\n",
      "File \u001B[0;32m/usr/local/lib/python3.9/site-packages/xarray/backends/common.py:131\u001B[0m, in \u001B[0;36mAbstractDataStore.load\u001B[0;34m(self)\u001B[0m\n\u001B[1;32m    109\u001B[0m \u001B[38;5;28;01mdef\u001B[39;00m \u001B[38;5;21mload\u001B[39m(\u001B[38;5;28mself\u001B[39m):\n\u001B[1;32m    110\u001B[0m     \u001B[38;5;124;03m\"\"\"\u001B[39;00m\n\u001B[1;32m    111\u001B[0m \u001B[38;5;124;03m    This loads the variables and attributes simultaneously.\u001B[39;00m\n\u001B[1;32m    112\u001B[0m \u001B[38;5;124;03m    A centralized loading function makes it easier to create\u001B[39;00m\n\u001B[0;32m   (...)\u001B[0m\n\u001B[1;32m    128\u001B[0m \u001B[38;5;124;03m    are requested, so care should be taken to make sure its fast.\u001B[39;00m\n\u001B[1;32m    129\u001B[0m \u001B[38;5;124;03m    \"\"\"\u001B[39;00m\n\u001B[1;32m    130\u001B[0m     variables \u001B[38;5;241m=\u001B[39m FrozenDict(\n\u001B[0;32m--> 131\u001B[0m         (_decode_variable_name(k), v) \u001B[38;5;28;01mfor\u001B[39;00m k, v \u001B[38;5;129;01min\u001B[39;00m \u001B[38;5;28;43mself\u001B[39;49m\u001B[38;5;241;43m.\u001B[39;49m\u001B[43mget_variables\u001B[49m\u001B[43m(\u001B[49m\u001B[43m)\u001B[49m\u001B[38;5;241m.\u001B[39mitems()\n\u001B[1;32m    132\u001B[0m     )\n\u001B[1;32m    133\u001B[0m     attributes \u001B[38;5;241m=\u001B[39m FrozenDict(\u001B[38;5;28mself\u001B[39m\u001B[38;5;241m.\u001B[39mget_attrs())\n\u001B[1;32m    134\u001B[0m     \u001B[38;5;28;01mreturn\u001B[39;00m variables, attributes\n",
      "File \u001B[0;32m/usr/local/lib/python3.9/site-packages/xarray/backends/zarr.py:504\u001B[0m, in \u001B[0;36mZarrStore.get_variables\u001B[0;34m(self)\u001B[0m\n\u001B[1;32m    503\u001B[0m \u001B[38;5;28;01mdef\u001B[39;00m \u001B[38;5;21mget_variables\u001B[39m(\u001B[38;5;28mself\u001B[39m):\n\u001B[0;32m--> 504\u001B[0m     \u001B[38;5;28;01mreturn\u001B[39;00m \u001B[43mFrozenDict\u001B[49m\u001B[43m(\u001B[49m\n\u001B[1;32m    505\u001B[0m \u001B[43m        \u001B[49m\u001B[43m(\u001B[49m\u001B[43mk\u001B[49m\u001B[43m,\u001B[49m\u001B[43m \u001B[49m\u001B[38;5;28;43mself\u001B[39;49m\u001B[38;5;241;43m.\u001B[39;49m\u001B[43mopen_store_variable\u001B[49m\u001B[43m(\u001B[49m\u001B[43mk\u001B[49m\u001B[43m,\u001B[49m\u001B[43m \u001B[49m\u001B[43mv\u001B[49m\u001B[43m)\u001B[49m\u001B[43m)\u001B[49m\u001B[43m \u001B[49m\u001B[38;5;28;43;01mfor\u001B[39;49;00m\u001B[43m \u001B[49m\u001B[43mk\u001B[49m\u001B[43m,\u001B[49m\u001B[43m \u001B[49m\u001B[43mv\u001B[49m\u001B[43m \u001B[49m\u001B[38;5;129;43;01min\u001B[39;49;00m\u001B[43m \u001B[49m\u001B[38;5;28;43mself\u001B[39;49m\u001B[38;5;241;43m.\u001B[39;49m\u001B[43mzarr_group\u001B[49m\u001B[38;5;241;43m.\u001B[39;49m\u001B[43marrays\u001B[49m\u001B[43m(\u001B[49m\u001B[43m)\u001B[49m\n\u001B[1;32m    506\u001B[0m \u001B[43m    \u001B[49m\u001B[43m)\u001B[49m\n",
      "File \u001B[0;32m/usr/local/lib/python3.9/site-packages/xarray/core/utils.py:471\u001B[0m, in \u001B[0;36mFrozenDict\u001B[0;34m(*args, **kwargs)\u001B[0m\n\u001B[1;32m    470\u001B[0m \u001B[38;5;28;01mdef\u001B[39;00m \u001B[38;5;21mFrozenDict\u001B[39m(\u001B[38;5;241m*\u001B[39margs, \u001B[38;5;241m*\u001B[39m\u001B[38;5;241m*\u001B[39mkwargs) \u001B[38;5;241m-\u001B[39m\u001B[38;5;241m>\u001B[39m Frozen:\n\u001B[0;32m--> 471\u001B[0m     \u001B[38;5;28;01mreturn\u001B[39;00m Frozen(\u001B[38;5;28;43mdict\u001B[39;49m\u001B[43m(\u001B[49m\u001B[38;5;241;43m*\u001B[39;49m\u001B[43margs\u001B[49m\u001B[43m,\u001B[49m\u001B[43m \u001B[49m\u001B[38;5;241;43m*\u001B[39;49m\u001B[38;5;241;43m*\u001B[39;49m\u001B[43mkwargs\u001B[49m\u001B[43m)\u001B[49m)\n",
      "File \u001B[0;32m/usr/local/lib/python3.9/site-packages/xarray/backends/zarr.py:504\u001B[0m, in \u001B[0;36m<genexpr>\u001B[0;34m(.0)\u001B[0m\n\u001B[1;32m    503\u001B[0m \u001B[38;5;28;01mdef\u001B[39;00m \u001B[38;5;21mget_variables\u001B[39m(\u001B[38;5;28mself\u001B[39m):\n\u001B[0;32m--> 504\u001B[0m     \u001B[38;5;28;01mreturn\u001B[39;00m FrozenDict(\n\u001B[1;32m    505\u001B[0m         (k, \u001B[38;5;28mself\u001B[39m\u001B[38;5;241m.\u001B[39mopen_store_variable(k, v)) \u001B[38;5;28;01mfor\u001B[39;00m k, v \u001B[38;5;129;01min\u001B[39;00m \u001B[38;5;28mself\u001B[39m\u001B[38;5;241m.\u001B[39mzarr_group\u001B[38;5;241m.\u001B[39marrays()\n\u001B[1;32m    506\u001B[0m     )\n",
      "File \u001B[0;32m/usr/local/lib/python3.9/site-packages/zarr/hierarchy.py:632\u001B[0m, in \u001B[0;36mGroup._array_iter\u001B[0;34m(self, keys_only, method, recurse)\u001B[0m\n\u001B[1;32m    630\u001B[0m \u001B[38;5;28;01mif\u001B[39;00m contains_array(\u001B[38;5;28mself\u001B[39m\u001B[38;5;241m.\u001B[39m_store, path):\n\u001B[1;32m    631\u001B[0m     _key \u001B[38;5;241m=\u001B[39m key\u001B[38;5;241m.\u001B[39mrstrip(\u001B[38;5;124m\"\u001B[39m\u001B[38;5;124m/\u001B[39m\u001B[38;5;124m\"\u001B[39m)\n\u001B[0;32m--> 632\u001B[0m     \u001B[38;5;28;01myield\u001B[39;00m _key \u001B[38;5;28;01mif\u001B[39;00m keys_only \u001B[38;5;28;01melse\u001B[39;00m (_key, \u001B[38;5;28;43mself\u001B[39;49m\u001B[43m[\u001B[49m\u001B[43mkey\u001B[49m\u001B[43m]\u001B[49m)\n\u001B[1;32m    633\u001B[0m \u001B[38;5;28;01melif\u001B[39;00m recurse \u001B[38;5;129;01mand\u001B[39;00m contains_group(\u001B[38;5;28mself\u001B[39m\u001B[38;5;241m.\u001B[39m_store, path):\n\u001B[1;32m    634\u001B[0m     group \u001B[38;5;241m=\u001B[39m \u001B[38;5;28mself\u001B[39m[key]\n",
      "File \u001B[0;32m/usr/local/lib/python3.9/site-packages/zarr/hierarchy.py:438\u001B[0m, in \u001B[0;36mGroup.__getitem__\u001B[0;34m(self, item)\u001B[0m\n\u001B[1;32m    436\u001B[0m path \u001B[38;5;241m=\u001B[39m \u001B[38;5;28mself\u001B[39m\u001B[38;5;241m.\u001B[39m_item_path(item)\n\u001B[1;32m    437\u001B[0m \u001B[38;5;28;01mif\u001B[39;00m contains_array(\u001B[38;5;28mself\u001B[39m\u001B[38;5;241m.\u001B[39m_store, path):\n\u001B[0;32m--> 438\u001B[0m     \u001B[38;5;28;01mreturn\u001B[39;00m \u001B[43mArray\u001B[49m\u001B[43m(\u001B[49m\u001B[38;5;28;43mself\u001B[39;49m\u001B[38;5;241;43m.\u001B[39;49m\u001B[43m_store\u001B[49m\u001B[43m,\u001B[49m\u001B[43m \u001B[49m\u001B[43mread_only\u001B[49m\u001B[38;5;241;43m=\u001B[39;49m\u001B[38;5;28;43mself\u001B[39;49m\u001B[38;5;241;43m.\u001B[39;49m\u001B[43m_read_only\u001B[49m\u001B[43m,\u001B[49m\u001B[43m \u001B[49m\u001B[43mpath\u001B[49m\u001B[38;5;241;43m=\u001B[39;49m\u001B[43mpath\u001B[49m\u001B[43m,\u001B[49m\n\u001B[1;32m    439\u001B[0m \u001B[43m                 \u001B[49m\u001B[43mchunk_store\u001B[49m\u001B[38;5;241;43m=\u001B[39;49m\u001B[38;5;28;43mself\u001B[39;49m\u001B[38;5;241;43m.\u001B[39;49m\u001B[43m_chunk_store\u001B[49m\u001B[43m,\u001B[49m\n\u001B[1;32m    440\u001B[0m \u001B[43m                 \u001B[49m\u001B[43msynchronizer\u001B[49m\u001B[38;5;241;43m=\u001B[39;49m\u001B[38;5;28;43mself\u001B[39;49m\u001B[38;5;241;43m.\u001B[39;49m\u001B[43m_synchronizer\u001B[49m\u001B[43m,\u001B[49m\u001B[43m \u001B[49m\u001B[43mcache_attrs\u001B[49m\u001B[38;5;241;43m=\u001B[39;49m\u001B[38;5;28;43mself\u001B[39;49m\u001B[38;5;241;43m.\u001B[39;49m\u001B[43mattrs\u001B[49m\u001B[38;5;241;43m.\u001B[39;49m\u001B[43mcache\u001B[49m\u001B[43m,\u001B[49m\n\u001B[1;32m    441\u001B[0m \u001B[43m                 \u001B[49m\u001B[43mzarr_version\u001B[49m\u001B[38;5;241;43m=\u001B[39;49m\u001B[38;5;28;43mself\u001B[39;49m\u001B[38;5;241;43m.\u001B[39;49m\u001B[43m_version\u001B[49m\u001B[43m,\u001B[49m\u001B[43m \u001B[49m\u001B[43mmeta_array\u001B[49m\u001B[38;5;241;43m=\u001B[39;49m\u001B[38;5;28;43mself\u001B[39;49m\u001B[38;5;241;43m.\u001B[39;49m\u001B[43m_meta_array\u001B[49m\u001B[43m)\u001B[49m\n\u001B[1;32m    442\u001B[0m \u001B[38;5;28;01melif\u001B[39;00m contains_group(\u001B[38;5;28mself\u001B[39m\u001B[38;5;241m.\u001B[39m_store, path, explicit_only\u001B[38;5;241m=\u001B[39m\u001B[38;5;28;01mTrue\u001B[39;00m):\n\u001B[1;32m    443\u001B[0m     \u001B[38;5;28;01mreturn\u001B[39;00m Group(\u001B[38;5;28mself\u001B[39m\u001B[38;5;241m.\u001B[39m_store, read_only\u001B[38;5;241m=\u001B[39m\u001B[38;5;28mself\u001B[39m\u001B[38;5;241m.\u001B[39m_read_only, path\u001B[38;5;241m=\u001B[39mpath,\n\u001B[1;32m    444\u001B[0m                  chunk_store\u001B[38;5;241m=\u001B[39m\u001B[38;5;28mself\u001B[39m\u001B[38;5;241m.\u001B[39m_chunk_store, cache_attrs\u001B[38;5;241m=\u001B[39m\u001B[38;5;28mself\u001B[39m\u001B[38;5;241m.\u001B[39mattrs\u001B[38;5;241m.\u001B[39mcache,\n\u001B[1;32m    445\u001B[0m                  synchronizer\u001B[38;5;241m=\u001B[39m\u001B[38;5;28mself\u001B[39m\u001B[38;5;241m.\u001B[39m_synchronizer, zarr_version\u001B[38;5;241m=\u001B[39m\u001B[38;5;28mself\u001B[39m\u001B[38;5;241m.\u001B[39m_version,\n\u001B[1;32m    446\u001B[0m                  meta_array\u001B[38;5;241m=\u001B[39m\u001B[38;5;28mself\u001B[39m\u001B[38;5;241m.\u001B[39m_meta_array)\n",
      "File \u001B[0;32m/usr/local/lib/python3.9/site-packages/zarr/core.py:217\u001B[0m, in \u001B[0;36mArray.__init__\u001B[0;34m(self, store, path, read_only, chunk_store, synchronizer, cache_metadata, cache_attrs, partial_decompress, write_empty_chunks, zarr_version, meta_array)\u001B[0m\n\u001B[1;32m    214\u001B[0m     \u001B[38;5;28mself\u001B[39m\u001B[38;5;241m.\u001B[39m_metadata_key_suffix \u001B[38;5;241m=\u001B[39m \u001B[38;5;28mself\u001B[39m\u001B[38;5;241m.\u001B[39m_hierarchy_metadata[\u001B[38;5;124m'\u001B[39m\u001B[38;5;124mmetadata_key_suffix\u001B[39m\u001B[38;5;124m'\u001B[39m]\n\u001B[1;32m    216\u001B[0m \u001B[38;5;66;03m# initialize metadata\u001B[39;00m\n\u001B[0;32m--> 217\u001B[0m \u001B[38;5;28;43mself\u001B[39;49m\u001B[38;5;241;43m.\u001B[39;49m\u001B[43m_load_metadata\u001B[49m\u001B[43m(\u001B[49m\u001B[43m)\u001B[49m\n\u001B[1;32m    219\u001B[0m \u001B[38;5;66;03m# initialize attributes\u001B[39;00m\n\u001B[1;32m    220\u001B[0m akey \u001B[38;5;241m=\u001B[39m _prefix_to_attrs_key(\u001B[38;5;28mself\u001B[39m\u001B[38;5;241m.\u001B[39m_store, \u001B[38;5;28mself\u001B[39m\u001B[38;5;241m.\u001B[39m_key_prefix)\n",
      "File \u001B[0;32m/usr/local/lib/python3.9/site-packages/zarr/core.py:234\u001B[0m, in \u001B[0;36mArray._load_metadata\u001B[0;34m(self)\u001B[0m\n\u001B[1;32m    232\u001B[0m \u001B[38;5;124;03m\"\"\"(Re)load metadata from store.\"\"\"\u001B[39;00m\n\u001B[1;32m    233\u001B[0m \u001B[38;5;28;01mif\u001B[39;00m \u001B[38;5;28mself\u001B[39m\u001B[38;5;241m.\u001B[39m_synchronizer \u001B[38;5;129;01mis\u001B[39;00m \u001B[38;5;28;01mNone\u001B[39;00m:\n\u001B[0;32m--> 234\u001B[0m     \u001B[38;5;28;43mself\u001B[39;49m\u001B[38;5;241;43m.\u001B[39;49m\u001B[43m_load_metadata_nosync\u001B[49m\u001B[43m(\u001B[49m\u001B[43m)\u001B[49m\n\u001B[1;32m    235\u001B[0m \u001B[38;5;28;01melse\u001B[39;00m:\n\u001B[1;32m    236\u001B[0m     mkey \u001B[38;5;241m=\u001B[39m _prefix_to_array_key(\u001B[38;5;28mself\u001B[39m\u001B[38;5;241m.\u001B[39m_store, \u001B[38;5;28mself\u001B[39m\u001B[38;5;241m.\u001B[39m_key_prefix)\n",
      "File \u001B[0;32m/usr/local/lib/python3.9/site-packages/zarr/core.py:282\u001B[0m, in \u001B[0;36mArray._load_metadata_nosync\u001B[0;34m(self)\u001B[0m\n\u001B[1;32m    280\u001B[0m     \u001B[38;5;28mself\u001B[39m\u001B[38;5;241m.\u001B[39m_compressor \u001B[38;5;241m=\u001B[39m \u001B[38;5;28;01mNone\u001B[39;00m\n\u001B[1;32m    281\u001B[0m \u001B[38;5;28;01melif\u001B[39;00m \u001B[38;5;28mself\u001B[39m\u001B[38;5;241m.\u001B[39m_version \u001B[38;5;241m==\u001B[39m \u001B[38;5;241m2\u001B[39m:\n\u001B[0;32m--> 282\u001B[0m     \u001B[38;5;28mself\u001B[39m\u001B[38;5;241m.\u001B[39m_compressor \u001B[38;5;241m=\u001B[39m \u001B[43mget_codec\u001B[49m\u001B[43m(\u001B[49m\u001B[43mcompressor\u001B[49m\u001B[43m)\u001B[49m\n\u001B[1;32m    283\u001B[0m \u001B[38;5;28;01melse\u001B[39;00m:\n\u001B[1;32m    284\u001B[0m     \u001B[38;5;28mself\u001B[39m\u001B[38;5;241m.\u001B[39m_compressor \u001B[38;5;241m=\u001B[39m compressor\n",
      "File \u001B[0;32m/usr/local/lib/python3.9/site-packages/numcodecs/registry.py:52\u001B[0m, in \u001B[0;36mget_codec\u001B[0;34m(config)\u001B[0m\n\u001B[1;32m     50\u001B[0m \u001B[38;5;28;01mif\u001B[39;00m \u001B[38;5;28mcls\u001B[39m:\n\u001B[1;32m     51\u001B[0m     \u001B[38;5;28;01mreturn\u001B[39;00m \u001B[38;5;28mcls\u001B[39m\u001B[38;5;241m.\u001B[39mfrom_config(config)\n\u001B[0;32m---> 52\u001B[0m \u001B[38;5;28;01mraise\u001B[39;00m \u001B[38;5;167;01mValueError\u001B[39;00m(\u001B[38;5;124m'\u001B[39m\u001B[38;5;124mcodec not available: \u001B[39m\u001B[38;5;132;01m%r\u001B[39;00m\u001B[38;5;124m'\u001B[39m \u001B[38;5;241m%\u001B[39m codec_id)\n",
      "\u001B[0;31mValueError\u001B[0m: codec not available: 'blosc2'"
     ]
    }
   ],
   "source": [
    "DATA_PATH = '/Users/carterdemars/Desktop/2020_0000-of-0031.zarr'\n",
    "dataset = xr.open_dataset(DATA_PATH, engine='zarr', chunks='auto')"
   ],
   "metadata": {
    "collapsed": false
   }
  },
  {
   "cell_type": "code",
   "execution_count": null,
   "outputs": [],
   "source": [
    "def load_geostationary_area_definition_and_transform_to_latlon(xr_data):\n",
    "    \"\"\"\n",
    "    Loads geostationary area and transformation from Latlon to geostationaery\n",
    "\n",
    "    Args:\n",
    "        xr_data: Xarray object with geostationary area\n",
    "\n",
    "    Returns:\n",
    "        The transform\n",
    "    \"\"\"\n",
    "    # Only load these if using geostationary projection\n",
    "    import pyproj\n",
    "    import pyresample\n",
    "\n",
    "    area_definition_yaml = xr_data.attrs[\"area\"]\n",
    "    geostationary_area_definition = pyresample.area_config.load_area_from_string(\n",
    "        area_definition_yaml\n",
    "    )\n",
    "    geostationary_crs = geostationary_area_definition.crs\n",
    "    geostationary_to_latlon = pyproj.Transformer.from_crs(\n",
    "        crs_to=4326, crs_from=geostationary_crs\n",
    "    ).transform\n",
    "    return geostationary_to_latlon"
   ],
   "metadata": {
    "collapsed": false
   }
  }
 ],
 "metadata": {
  "kernelspec": {
   "display_name": "Python 3",
   "language": "python",
   "name": "python3"
  },
  "language_info": {
   "codemirror_mode": {
    "name": "ipython",
    "version": 2
   },
   "file_extension": ".py",
   "mimetype": "text/x-python",
   "name": "python",
   "nbconvert_exporter": "python",
   "pygments_lexer": "ipython2",
   "version": "2.7.6"
  }
 },
 "nbformat": 4,
 "nbformat_minor": 0
}
