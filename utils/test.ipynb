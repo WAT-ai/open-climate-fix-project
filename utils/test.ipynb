{
 "cells": [
  {
   "cell_type": "code",
   "execution_count": 3,
   "metadata": {},
   "outputs": [
    {
     "ename": "Forbidden",
     "evalue": "403 GET https://storage.googleapis.com/storage/v1/b/my-bucket/o?projection=noAcl&prefix=my-directory&prettyPrint=false: areel.khan.career@gmail.com does not have storage.objects.list access to the Google Cloud Storage bucket. Permission 'storage.objects.list' denied on resource (or it may not exist).",
     "output_type": "error",
     "traceback": [
      "\u001b[1;31m---------------------------------------------------------------------------\u001b[0m",
      "\u001b[1;31mForbidden\u001b[0m                                 Traceback (most recent call last)",
      "Cell \u001b[1;32mIn[3], line 44\u001b[0m\n\u001b[0;32m     41\u001b[0m     \u001b[39mprint\u001b[39m(\u001b[39m\"\u001b[39m\u001b[39mDirectory downloaded successfully!\u001b[39m\u001b[39m\"\u001b[39m)\n\u001b[0;32m     43\u001b[0m \u001b[39m# Example usage: download the \"my-directory\" directory from the \"my-bucket\" bucket to the \"/path/to/local/directory\" directory.\u001b[39;00m\n\u001b[1;32m---> 44\u001b[0m download_bucket_directory(\u001b[39m\"\u001b[39;49m\u001b[39mmy-bucket\u001b[39;49m\u001b[39m\"\u001b[39;49m, \u001b[39m\"\u001b[39;49m\u001b[39mmy-directory\u001b[39;49m\u001b[39m\"\u001b[39;49m, \u001b[39m\"\u001b[39;49m\u001b[39m/path/to/local/directory\u001b[39;49m\u001b[39m\"\u001b[39;49m)\n",
      "Cell \u001b[1;32mIn[3], line 26\u001b[0m, in \u001b[0;36mdownload_bucket_directory\u001b[1;34m(bucket_name, source_directory_name, destination_directory_name)\u001b[0m\n\u001b[0;32m     23\u001b[0m blobs \u001b[39m=\u001b[39m bucket\u001b[39m.\u001b[39mlist_blobs(prefix\u001b[39m=\u001b[39msource_directory_name)\n\u001b[0;32m     25\u001b[0m \u001b[39m# Download each object in the directory to the local destination directory.\u001b[39;00m\n\u001b[1;32m---> 26\u001b[0m \u001b[39mfor\u001b[39;00m blob \u001b[39min\u001b[39;00m blobs:\n\u001b[0;32m     27\u001b[0m     \u001b[39m# Construct the local file path by removing the source directory prefix from the object name.\u001b[39;00m\n\u001b[0;32m     28\u001b[0m     file_path \u001b[39m=\u001b[39m blob\u001b[39m.\u001b[39mname[\u001b[39mlen\u001b[39m(source_directory_name) \u001b[39m+\u001b[39m \u001b[39m1\u001b[39m:]\n\u001b[0;32m     30\u001b[0m     \u001b[39m# Construct the local file path by joining the destination directory name and the file path.\u001b[39;00m\n",
      "File \u001b[1;32mc:\\Users\\areel\\anaconda3\\envs\\watai\\lib\\site-packages\\google\\api_core\\page_iterator.py:208\u001b[0m, in \u001b[0;36mIterator._items_iter\u001b[1;34m(self)\u001b[0m\n\u001b[0;32m    206\u001b[0m \u001b[39mdef\u001b[39;00m \u001b[39m_items_iter\u001b[39m(\u001b[39mself\u001b[39m):\n\u001b[0;32m    207\u001b[0m \u001b[39m    \u001b[39m\u001b[39m\"\"\"Iterator for each item returned.\"\"\"\u001b[39;00m\n\u001b[1;32m--> 208\u001b[0m     \u001b[39mfor\u001b[39;00m page \u001b[39min\u001b[39;00m \u001b[39mself\u001b[39m\u001b[39m.\u001b[39m_page_iter(increment\u001b[39m=\u001b[39m\u001b[39mFalse\u001b[39;00m):\n\u001b[0;32m    209\u001b[0m         \u001b[39mfor\u001b[39;00m item \u001b[39min\u001b[39;00m page:\n\u001b[0;32m    210\u001b[0m             \u001b[39mself\u001b[39m\u001b[39m.\u001b[39mnum_results \u001b[39m+\u001b[39m\u001b[39m=\u001b[39m \u001b[39m1\u001b[39m\n",
      "File \u001b[1;32mc:\\Users\\areel\\anaconda3\\envs\\watai\\lib\\site-packages\\google\\api_core\\page_iterator.py:244\u001b[0m, in \u001b[0;36mIterator._page_iter\u001b[1;34m(self, increment)\u001b[0m\n\u001b[0;32m    232\u001b[0m \u001b[39mdef\u001b[39;00m \u001b[39m_page_iter\u001b[39m(\u001b[39mself\u001b[39m, increment):\n\u001b[0;32m    233\u001b[0m \u001b[39m    \u001b[39m\u001b[39m\"\"\"Generator of pages of API responses.\u001b[39;00m\n\u001b[0;32m    234\u001b[0m \n\u001b[0;32m    235\u001b[0m \u001b[39m    Args:\u001b[39;00m\n\u001b[1;32m   (...)\u001b[0m\n\u001b[0;32m    242\u001b[0m \u001b[39m        Page: each page of items from the API.\u001b[39;00m\n\u001b[0;32m    243\u001b[0m \u001b[39m    \"\"\"\u001b[39;00m\n\u001b[1;32m--> 244\u001b[0m     page \u001b[39m=\u001b[39m \u001b[39mself\u001b[39;49m\u001b[39m.\u001b[39;49m_next_page()\n\u001b[0;32m    245\u001b[0m     \u001b[39mwhile\u001b[39;00m page \u001b[39mis\u001b[39;00m \u001b[39mnot\u001b[39;00m \u001b[39mNone\u001b[39;00m:\n\u001b[0;32m    246\u001b[0m         \u001b[39mself\u001b[39m\u001b[39m.\u001b[39mpage_number \u001b[39m+\u001b[39m\u001b[39m=\u001b[39m \u001b[39m1\u001b[39m\n",
      "File \u001b[1;32mc:\\Users\\areel\\anaconda3\\envs\\watai\\lib\\site-packages\\google\\api_core\\page_iterator.py:373\u001b[0m, in \u001b[0;36mHTTPIterator._next_page\u001b[1;34m(self)\u001b[0m\n\u001b[0;32m    366\u001b[0m \u001b[39m\u001b[39m\u001b[39m\"\"\"Get the next page in the iterator.\u001b[39;00m\n\u001b[0;32m    367\u001b[0m \n\u001b[0;32m    368\u001b[0m \u001b[39mReturns:\u001b[39;00m\n\u001b[0;32m    369\u001b[0m \u001b[39m    Optional[Page]: The next page in the iterator or :data:`None` if\u001b[39;00m\n\u001b[0;32m    370\u001b[0m \u001b[39m        there are no pages left.\u001b[39;00m\n\u001b[0;32m    371\u001b[0m \u001b[39m\"\"\"\u001b[39;00m\n\u001b[0;32m    372\u001b[0m \u001b[39mif\u001b[39;00m \u001b[39mself\u001b[39m\u001b[39m.\u001b[39m_has_next_page():\n\u001b[1;32m--> 373\u001b[0m     response \u001b[39m=\u001b[39m \u001b[39mself\u001b[39;49m\u001b[39m.\u001b[39;49m_get_next_page_response()\n\u001b[0;32m    374\u001b[0m     items \u001b[39m=\u001b[39m response\u001b[39m.\u001b[39mget(\u001b[39mself\u001b[39m\u001b[39m.\u001b[39m_items_key, ())\n\u001b[0;32m    375\u001b[0m     page \u001b[39m=\u001b[39m Page(\u001b[39mself\u001b[39m, items, \u001b[39mself\u001b[39m\u001b[39m.\u001b[39mitem_to_value, raw_page\u001b[39m=\u001b[39mresponse)\n",
      "File \u001b[1;32mc:\\Users\\areel\\anaconda3\\envs\\watai\\lib\\site-packages\\google\\api_core\\page_iterator.py:432\u001b[0m, in \u001b[0;36mHTTPIterator._get_next_page_response\u001b[1;34m(self)\u001b[0m\n\u001b[0;32m    430\u001b[0m params \u001b[39m=\u001b[39m \u001b[39mself\u001b[39m\u001b[39m.\u001b[39m_get_query_params()\n\u001b[0;32m    431\u001b[0m \u001b[39mif\u001b[39;00m \u001b[39mself\u001b[39m\u001b[39m.\u001b[39m_HTTP_METHOD \u001b[39m==\u001b[39m \u001b[39m\"\u001b[39m\u001b[39mGET\u001b[39m\u001b[39m\"\u001b[39m:\n\u001b[1;32m--> 432\u001b[0m     \u001b[39mreturn\u001b[39;00m \u001b[39mself\u001b[39;49m\u001b[39m.\u001b[39;49mapi_request(\n\u001b[0;32m    433\u001b[0m         method\u001b[39m=\u001b[39;49m\u001b[39mself\u001b[39;49m\u001b[39m.\u001b[39;49m_HTTP_METHOD, path\u001b[39m=\u001b[39;49m\u001b[39mself\u001b[39;49m\u001b[39m.\u001b[39;49mpath, query_params\u001b[39m=\u001b[39;49mparams\n\u001b[0;32m    434\u001b[0m     )\n\u001b[0;32m    435\u001b[0m \u001b[39melif\u001b[39;00m \u001b[39mself\u001b[39m\u001b[39m.\u001b[39m_HTTP_METHOD \u001b[39m==\u001b[39m \u001b[39m\"\u001b[39m\u001b[39mPOST\u001b[39m\u001b[39m\"\u001b[39m:\n\u001b[0;32m    436\u001b[0m     \u001b[39mreturn\u001b[39;00m \u001b[39mself\u001b[39m\u001b[39m.\u001b[39mapi_request(\n\u001b[0;32m    437\u001b[0m         method\u001b[39m=\u001b[39m\u001b[39mself\u001b[39m\u001b[39m.\u001b[39m_HTTP_METHOD, path\u001b[39m=\u001b[39m\u001b[39mself\u001b[39m\u001b[39m.\u001b[39mpath, data\u001b[39m=\u001b[39mparams\n\u001b[0;32m    438\u001b[0m     )\n",
      "File \u001b[1;32mc:\\Users\\areel\\anaconda3\\envs\\watai\\lib\\site-packages\\google\\cloud\\storage\\_http.py:72\u001b[0m, in \u001b[0;36mConnection.api_request\u001b[1;34m(self, *args, **kwargs)\u001b[0m\n\u001b[0;32m     70\u001b[0m     \u001b[39mif\u001b[39;00m retry:\n\u001b[0;32m     71\u001b[0m         call \u001b[39m=\u001b[39m retry(call)\n\u001b[1;32m---> 72\u001b[0m \u001b[39mreturn\u001b[39;00m call()\n",
      "File \u001b[1;32mc:\\Users\\areel\\anaconda3\\envs\\watai\\lib\\site-packages\\google\\api_core\\retry.py:349\u001b[0m, in \u001b[0;36mRetry.__call__.<locals>.retry_wrapped_func\u001b[1;34m(*args, **kwargs)\u001b[0m\n\u001b[0;32m    345\u001b[0m target \u001b[39m=\u001b[39m functools\u001b[39m.\u001b[39mpartial(func, \u001b[39m*\u001b[39margs, \u001b[39m*\u001b[39m\u001b[39m*\u001b[39mkwargs)\n\u001b[0;32m    346\u001b[0m sleep_generator \u001b[39m=\u001b[39m exponential_sleep_generator(\n\u001b[0;32m    347\u001b[0m     \u001b[39mself\u001b[39m\u001b[39m.\u001b[39m_initial, \u001b[39mself\u001b[39m\u001b[39m.\u001b[39m_maximum, multiplier\u001b[39m=\u001b[39m\u001b[39mself\u001b[39m\u001b[39m.\u001b[39m_multiplier\n\u001b[0;32m    348\u001b[0m )\n\u001b[1;32m--> 349\u001b[0m \u001b[39mreturn\u001b[39;00m retry_target(\n\u001b[0;32m    350\u001b[0m     target,\n\u001b[0;32m    351\u001b[0m     \u001b[39mself\u001b[39;49m\u001b[39m.\u001b[39;49m_predicate,\n\u001b[0;32m    352\u001b[0m     sleep_generator,\n\u001b[0;32m    353\u001b[0m     \u001b[39mself\u001b[39;49m\u001b[39m.\u001b[39;49m_timeout,\n\u001b[0;32m    354\u001b[0m     on_error\u001b[39m=\u001b[39;49mon_error,\n\u001b[0;32m    355\u001b[0m )\n",
      "File \u001b[1;32mc:\\Users\\areel\\anaconda3\\envs\\watai\\lib\\site-packages\\google\\api_core\\retry.py:191\u001b[0m, in \u001b[0;36mretry_target\u001b[1;34m(target, predicate, sleep_generator, timeout, on_error, **kwargs)\u001b[0m\n\u001b[0;32m    189\u001b[0m \u001b[39mfor\u001b[39;00m sleep \u001b[39min\u001b[39;00m sleep_generator:\n\u001b[0;32m    190\u001b[0m     \u001b[39mtry\u001b[39;00m:\n\u001b[1;32m--> 191\u001b[0m         \u001b[39mreturn\u001b[39;00m target()\n\u001b[0;32m    193\u001b[0m     \u001b[39m# pylint: disable=broad-except\u001b[39;00m\n\u001b[0;32m    194\u001b[0m     \u001b[39m# This function explicitly must deal with broad exceptions.\u001b[39;00m\n\u001b[0;32m    195\u001b[0m     \u001b[39mexcept\u001b[39;00m \u001b[39mException\u001b[39;00m \u001b[39mas\u001b[39;00m exc:\n",
      "File \u001b[1;32mc:\\Users\\areel\\anaconda3\\envs\\watai\\lib\\site-packages\\google\\cloud\\_http\\__init__.py:494\u001b[0m, in \u001b[0;36mJSONConnection.api_request\u001b[1;34m(self, method, path, query_params, data, content_type, headers, api_base_url, api_version, expect_json, _target_object, timeout, extra_api_info)\u001b[0m\n\u001b[0;32m    482\u001b[0m response \u001b[39m=\u001b[39m \u001b[39mself\u001b[39m\u001b[39m.\u001b[39m_make_request(\n\u001b[0;32m    483\u001b[0m     method\u001b[39m=\u001b[39mmethod,\n\u001b[0;32m    484\u001b[0m     url\u001b[39m=\u001b[39murl,\n\u001b[1;32m   (...)\u001b[0m\n\u001b[0;32m    490\u001b[0m     extra_api_info\u001b[39m=\u001b[39mextra_api_info,\n\u001b[0;32m    491\u001b[0m )\n\u001b[0;32m    493\u001b[0m \u001b[39mif\u001b[39;00m \u001b[39mnot\u001b[39;00m \u001b[39m200\u001b[39m \u001b[39m<\u001b[39m\u001b[39m=\u001b[39m response\u001b[39m.\u001b[39mstatus_code \u001b[39m<\u001b[39m \u001b[39m300\u001b[39m:\n\u001b[1;32m--> 494\u001b[0m     \u001b[39mraise\u001b[39;00m exceptions\u001b[39m.\u001b[39mfrom_http_response(response)\n\u001b[0;32m    496\u001b[0m \u001b[39mif\u001b[39;00m expect_json \u001b[39mand\u001b[39;00m response\u001b[39m.\u001b[39mcontent:\n\u001b[0;32m    497\u001b[0m     \u001b[39mreturn\u001b[39;00m response\u001b[39m.\u001b[39mjson()\n",
      "\u001b[1;31mForbidden\u001b[0m: 403 GET https://storage.googleapis.com/storage/v1/b/my-bucket/o?projection=noAcl&prefix=my-directory&prettyPrint=false: areel.khan.career@gmail.com does not have storage.objects.list access to the Google Cloud Storage bucket. Permission 'storage.objects.list' denied on resource (or it may not exist)."
     ]
    }
   ],
   "source": [
    "from google.cloud import storage\n",
    "import os\n",
    "\n",
    "def download_bucket_directory(bucket_name, source_directory_name, destination_directory_name):\n",
    "    \"\"\"\n",
    "    Download a directory and all of its contents from a Google Cloud Storage bucket.\n",
    "\n",
    "    Args:\n",
    "        bucket_name (str): The name of the bucket.\n",
    "        source_directory_name (str): The name of the directory to download (e.g., \"path/to/directory\").\n",
    "        destination_directory_name (str): The name of the local directory to download to (e.g., \"/path/to/local/directory\").\n",
    "\n",
    "    Returns:\n",
    "        None\n",
    "    \"\"\"\n",
    "    # Create a client object for interacting with the Google Cloud Storage API.\n",
    "    storage_client = storage.Client()\n",
    "\n",
    "    # Get the bucket object.\n",
    "    bucket = storage_client.bucket(bucket_name)\n",
    "\n",
    "    # List all objects in the specified directory.\n",
    "    blobs = bucket.list_blobs(prefix=source_directory_name)\n",
    "\n",
    "    # Download each object in the directory to the local destination directory.\n",
    "    for blob in blobs:\n",
    "        # Construct the local file path by removing the source directory prefix from the object name.\n",
    "        file_path = blob.name[len(source_directory_name) + 1:]\n",
    "\n",
    "        # Construct the local file path by joining the destination directory name and the file path.\n",
    "        local_file_path = os.path.join(destination_directory_name, file_path)\n",
    "\n",
    "        # Create the local directory if it does not exist.\n",
    "        local_directory = os.path.dirname(local_file_path)\n",
    "        if not os.path.exists(local_directory):\n",
    "            os.makedirs(local_directory)\n",
    "\n",
    "        # Download the object to the local file path.\n",
    "        blob.download_to_filename(local_file_path)\n",
    "\n",
    "    print(\"Directory downloaded successfully!\")\n",
    "\n",
    "# Example usage: download the \"my-directory\" directory from the \"my-bucket\" bucket to the \"/path/to/local/directory\" directory.\n",
    "download_bucket_directory(\"my-bucket\", \"my-directory\", \"/path/to/local/directory\")\n"
   ]
  },
  {
   "cell_type": "code",
   "execution_count": null,
   "metadata": {},
   "outputs": [
    {
     "ename": "NameError",
     "evalue": "name 'download_bucket_directory' is not defined",
     "output_type": "error",
     "traceback": [
      "\u001b[1;31m---------------------------------------------------------------------------\u001b[0m",
      "\u001b[1;31mNameError\u001b[0m                                 Traceback (most recent call last)",
      "Cell \u001b[1;32mIn[1], line 1\u001b[0m\n\u001b[1;32m----> 1\u001b[0m download_bucket_directory(\u001b[39m'\u001b[39m\u001b[39mWAT.ai\u001b[39m\u001b[39m'\u001b[39m, \u001b[39m'\u001b[39m\u001b[39mocf_base_data/pv/raw/italy\u001b[39m\u001b[39m'\u001b[39m, \u001b[39m'\u001b[39m\u001b[39mC:/Users/areel/watai/watai/data/experiment\u001b[39m\u001b[39m'\u001b[39m)\n",
      "\u001b[1;31mNameError\u001b[0m: name 'download_bucket_directory' is not defined"
     ]
    }
   ],
   "source": [
    "download_bucket_directory('WAT.ai', 'ocf_base_data/pv/raw/italy', 'C:/Users/areel/watai/watai/data/experiment')"
   ]
  },
  {
   "cell_type": "code",
   "execution_count": 1,
   "metadata": {},
   "outputs": [],
   "source": [
    "import os"
   ]
  },
  {
   "cell_type": "code",
   "execution_count": 2,
   "metadata": {},
   "outputs": [
    {
     "data": {
      "text/plain": [
       "0"
      ]
     },
     "execution_count": 2,
     "metadata": {},
     "output_type": "execute_result"
    }
   ],
   "source": [
    "os.system('echo 1')"
   ]
  },
  {
   "cell_type": "code",
   "execution_count": null,
   "metadata": {},
   "outputs": [],
   "source": []
  }
 ],
 "metadata": {
  "kernelspec": {
   "display_name": "watai",
   "language": "python",
   "name": "python3"
  },
  "language_info": {
   "codemirror_mode": {
    "name": "ipython",
    "version": 3
   },
   "file_extension": ".py",
   "mimetype": "text/x-python",
   "name": "python",
   "nbconvert_exporter": "python",
   "pygments_lexer": "ipython3",
   "version": "3.10.4"
  },
  "orig_nbformat": 4
 },
 "nbformat": 4,
 "nbformat_minor": 2
}
