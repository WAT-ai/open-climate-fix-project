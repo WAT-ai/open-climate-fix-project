{
 "cells": [
  {
   "cell_type": "code",
   "execution_count": null,
   "metadata": {},
   "outputs": [],
   "source": [
    "import numpy as np\n",
    "import pandas as pd\n",
    "import xarray as xr\n",
    "import datetime\n",
    "\n",
    "\n",
    "\n",
    "def return_nwp_data(latitude, longitude, radius):\n",
    "    #nwp_lat = dataset.loc[lat]\n",
    "    #nwp_long = dataset.loc[long]\n",
    "    for i in range dataset.loc[lat]:\n",
    "        if abs(latitude - nwp_lat) <= radius:\n",
    "            #repeat for long\n",
    "       # return dataset.loc[specific site within range]\n"
   ]
  }
 ],
 "metadata": {
  "language_info": {
   "name": "python"
  },
  "orig_nbformat": 4
 },
 "nbformat": 4,
 "nbformat_minor": 2
}
