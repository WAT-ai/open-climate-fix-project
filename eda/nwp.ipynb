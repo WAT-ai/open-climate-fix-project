{
 "cells": [
  {
   "cell_type": "code",
   "execution_count": 4,
   "metadata": {},
   "outputs": [],
   "source": [
    "import xarray as xr"
   ]
  },
  {
   "cell_type": "code",
   "execution_count": 3,
   "metadata": {},
   "outputs": [],
   "source": [
    "DATA_PATH = 'C:\\Users\\areel\\watai\\watai_repo\\data\\nwp\\atmosphere\\2022'\n",
    "# here is an example: 'C:/Users/areel/watai/watai_repo/data/satellite/hrv/2022/2022_000017-of-000056.zarr'"
   ]
  },
  {
   "cell_type": "code",
   "execution_count": null,
   "metadata": {},
   "outputs": [],
   "source": [
    "dataset = xr.open_dataset(DATA_PATH, engine='zarr', chunks='auto')"
   ]
  }
 ],
 "metadata": {
  "kernelspec": {
   "display_name": "Python 3.10.4 ('watai')",
   "language": "python",
   "name": "python3"
  },
  "language_info": {
   "codemirror_mode": {
    "name": "ipython",
    "version": 3
   },
   "file_extension": ".py",
   "mimetype": "text/x-python",
   "name": "python",
   "nbconvert_exporter": "python",
   "pygments_lexer": "ipython3",
   "version": "3.10.4"
  },
  "orig_nbformat": 4,
  "vscode": {
   "interpreter": {
    "hash": "5c983ba3b455ac1cc7cb5133c158b0d27313129039d8bc6ce7109038a3383a31"
   }
  }
 },
 "nbformat": 4,
 "nbformat_minor": 2
}
